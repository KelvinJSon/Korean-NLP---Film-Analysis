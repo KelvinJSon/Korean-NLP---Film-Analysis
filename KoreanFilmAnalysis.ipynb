{
 "cells": [
  {
   "cell_type": "code",
   "execution_count": 1,
   "metadata": {},
   "outputs": [
    {
     "name": "stdout",
     "output_type": "stream",
     "text": [
      "Import Done\n"
     ]
    }
   ],
   "source": [
    "# %%\n",
    "# Importing various packages\n",
    "import pandas as pd \n",
    "import numpy as np\n",
    "from matplotlib import pyplot as plt\n",
    "import re \n",
    "import urllib.request\n",
    "from konlpy.tag import Okt\n",
    "from tensorflow.keras.preprocessing.text import Tokenizer \n",
    "from tensorflow.keras.preprocessing.sequence import pad_sequences\n",
    "import seaborn as sns \n",
    "from keras.models import Sequential\n",
    "from keras.layers import Dense, Dropout, BatchNormalization\n",
    "print(\"Import Done\")"
   ]
  },
  {
   "cell_type": "code",
   "execution_count": 2,
   "metadata": {},
   "outputs": [
    {
     "data": {
      "text/html": [
       "<div>\n",
       "<style scoped>\n",
       "    .dataframe tbody tr th:only-of-type {\n",
       "        vertical-align: middle;\n",
       "    }\n",
       "\n",
       "    .dataframe tbody tr th {\n",
       "        vertical-align: top;\n",
       "    }\n",
       "\n",
       "    .dataframe thead th {\n",
       "        text-align: right;\n",
       "    }\n",
       "</style>\n",
       "<table border=\"1\" class=\"dataframe\">\n",
       "  <thead>\n",
       "    <tr style=\"text-align: right;\">\n",
       "      <th></th>\n",
       "      <th>id</th>\n",
       "      <th>document</th>\n",
       "      <th>label</th>\n",
       "    </tr>\n",
       "  </thead>\n",
       "  <tbody>\n",
       "    <tr>\n",
       "      <th>0</th>\n",
       "      <td>9976970</td>\n",
       "      <td>아 더빙.. 진짜 짜증나네요 목소리</td>\n",
       "      <td>0</td>\n",
       "    </tr>\n",
       "    <tr>\n",
       "      <th>1</th>\n",
       "      <td>3819312</td>\n",
       "      <td>흠...포스터보고 초딩영화줄....오버연기조차 가볍지 않구나</td>\n",
       "      <td>1</td>\n",
       "    </tr>\n",
       "    <tr>\n",
       "      <th>2</th>\n",
       "      <td>10265843</td>\n",
       "      <td>너무재밓었다그래서보는것을추천한다</td>\n",
       "      <td>0</td>\n",
       "    </tr>\n",
       "    <tr>\n",
       "      <th>3</th>\n",
       "      <td>9045019</td>\n",
       "      <td>교도소 이야기구먼 ..솔직히 재미는 없다..평점 조정</td>\n",
       "      <td>0</td>\n",
       "    </tr>\n",
       "    <tr>\n",
       "      <th>4</th>\n",
       "      <td>6483659</td>\n",
       "      <td>사이몬페그의 익살스런 연기가 돋보였던 영화!스파이더맨에서 늙어보이기만 했던 커스틴 ...</td>\n",
       "      <td>1</td>\n",
       "    </tr>\n",
       "  </tbody>\n",
       "</table>\n",
       "</div>"
      ],
      "text/plain": [
       "         id                                           document  label\n",
       "0   9976970                                아 더빙.. 진짜 짜증나네요 목소리      0\n",
       "1   3819312                  흠...포스터보고 초딩영화줄....오버연기조차 가볍지 않구나      1\n",
       "2  10265843                                  너무재밓었다그래서보는것을추천한다      0\n",
       "3   9045019                      교도소 이야기구먼 ..솔직히 재미는 없다..평점 조정      0\n",
       "4   6483659  사이몬페그의 익살스런 연기가 돋보였던 영화!스파이더맨에서 늙어보이기만 했던 커스틴 ...      1"
      ]
     },
     "execution_count": 2,
     "metadata": {},
     "output_type": "execute_result"
    }
   ],
   "source": [
    "# %%\n",
    "# Getting the Korean film reviews\n",
    "urllib.request.urlretrieve(\"https://raw.githubusercontent.com/e9t/nsmc/master/ratings_train.txt\", filename=\"ratings_train.txt\")\n",
    "urllib.request.urlretrieve(\"https://raw.githubusercontent.com/e9t/nsmc/master/ratings_test.txt\", filename=\"ratings_test.txt\")\n",
    "train = pd.read_table('ratings_train.txt') #splitting vetween training and test datasets\n",
    "test = pd.read_table('ratings_test.txt')\n",
    "train.head()"
   ]
  },
  {
   "cell_type": "code",
   "execution_count": 3,
   "metadata": {},
   "outputs": [
    {
     "name": "stdout",
     "output_type": "stream",
     "text": [
      "<class 'pandas.core.frame.DataFrame'>\n",
      "RangeIndex: 150000 entries, 0 to 149999\n",
      "Data columns (total 2 columns):\n",
      " #   Column    Non-Null Count   Dtype \n",
      "---  ------    --------------   ----- \n",
      " 0   document  149995 non-null  object\n",
      " 1   label     150000 non-null  int64 \n",
      "dtypes: int64(1), object(1)\n",
      "memory usage: 2.3+ MB\n"
     ]
    }
   ],
   "source": [
    "# %%\n",
    "# Dropping numerical ID column as it is not helpful\n",
    "train = train.drop(['id'],axis=1) \n",
    "test = test.drop(['id'],axis=1)\n",
    "train.info()"
   ]
  },
  {
   "cell_type": "code",
   "execution_count": 4,
   "metadata": {},
   "outputs": [
    {
     "name": "stdout",
     "output_type": "stream",
     "text": [
      "True\n"
     ]
    },
    {
     "data": {
      "text/html": [
       "<div>\n",
       "<style scoped>\n",
       "    .dataframe tbody tr th:only-of-type {\n",
       "        vertical-align: middle;\n",
       "    }\n",
       "\n",
       "    .dataframe tbody tr th {\n",
       "        vertical-align: top;\n",
       "    }\n",
       "\n",
       "    .dataframe thead th {\n",
       "        text-align: right;\n",
       "    }\n",
       "</style>\n",
       "<table border=\"1\" class=\"dataframe\">\n",
       "  <thead>\n",
       "    <tr style=\"text-align: right;\">\n",
       "      <th></th>\n",
       "      <th>document</th>\n",
       "      <th>label</th>\n",
       "    </tr>\n",
       "  </thead>\n",
       "  <tbody>\n",
       "    <tr>\n",
       "      <th>25857</th>\n",
       "      <td>NaN</td>\n",
       "      <td>1</td>\n",
       "    </tr>\n",
       "    <tr>\n",
       "      <th>55737</th>\n",
       "      <td>NaN</td>\n",
       "      <td>1</td>\n",
       "    </tr>\n",
       "    <tr>\n",
       "      <th>110014</th>\n",
       "      <td>NaN</td>\n",
       "      <td>0</td>\n",
       "    </tr>\n",
       "    <tr>\n",
       "      <th>126782</th>\n",
       "      <td>NaN</td>\n",
       "      <td>0</td>\n",
       "    </tr>\n",
       "    <tr>\n",
       "      <th>140721</th>\n",
       "      <td>NaN</td>\n",
       "      <td>0</td>\n",
       "    </tr>\n",
       "  </tbody>\n",
       "</table>\n",
       "</div>"
      ],
      "text/plain": [
       "       document  label\n",
       "25857       NaN      1\n",
       "55737       NaN      1\n",
       "110014      NaN      0\n",
       "126782      NaN      0\n",
       "140721      NaN      0"
      ]
     },
     "execution_count": 4,
     "metadata": {},
     "output_type": "execute_result"
    }
   ],
   "source": [
    "# %%\n",
    "# Checking the training data for any null values and locating them\n",
    "print(train.isnull().values.any())\n",
    "train.loc[train.document.isnull()]"
   ]
  },
  {
   "cell_type": "code",
   "execution_count": 5,
   "metadata": {},
   "outputs": [
    {
     "name": "stdout",
     "output_type": "stream",
     "text": [
      "<class 'pandas.core.frame.DataFrame'>\n",
      "Int64Index: 149995 entries, 0 to 149999\n",
      "Data columns (total 2 columns):\n",
      " #   Column    Non-Null Count   Dtype \n",
      "---  ------    --------------   ----- \n",
      " 0   document  149995 non-null  object\n",
      " 1   label     149995 non-null  int64 \n",
      "dtypes: int64(1), object(1)\n",
      "memory usage: 3.4+ MB\n"
     ]
    }
   ],
   "source": [
    "# %%\n",
    "# Dropping null reviews in training\n",
    "train = train.dropna()\n",
    "train.info()"
   ]
  },
  {
   "cell_type": "code",
   "execution_count": 6,
   "metadata": {},
   "outputs": [
    {
     "name": "stderr",
     "output_type": "stream",
     "text": [
      "C:\\Users\\Kelvin\\AppData\\Local\\Temp/ipykernel_10108/943551692.py:3: FutureWarning: The default value of regex will change from True to False in a future version.\n",
      "  train['word_n_2']=train['document'].str.replace(\"[^ㄱ-ㅎㅏ-ㅣ가-힣 ]\",\" \")\n",
      "C:\\Users\\Kelvin\\AppData\\Local\\Temp/ipykernel_10108/943551692.py:4: FutureWarning: The default value of regex will change from True to False in a future version.\n",
      "  test['document']=test['document'].str.replace(\"[^ㄱ-ㅎㅏ-ㅣ가-힣 ]\",\" \")\n"
     ]
    },
    {
     "data": {
      "text/html": [
       "<div>\n",
       "<style scoped>\n",
       "    .dataframe tbody tr th:only-of-type {\n",
       "        vertical-align: middle;\n",
       "    }\n",
       "\n",
       "    .dataframe tbody tr th {\n",
       "        vertical-align: top;\n",
       "    }\n",
       "\n",
       "    .dataframe thead th {\n",
       "        text-align: right;\n",
       "    }\n",
       "</style>\n",
       "<table border=\"1\" class=\"dataframe\">\n",
       "  <thead>\n",
       "    <tr style=\"text-align: right;\">\n",
       "      <th></th>\n",
       "      <th>document</th>\n",
       "      <th>label</th>\n",
       "      <th>word_n_2</th>\n",
       "    </tr>\n",
       "  </thead>\n",
       "  <tbody>\n",
       "    <tr>\n",
       "      <th>0</th>\n",
       "      <td>아 더빙.. 진짜 짜증나네요 목소리</td>\n",
       "      <td>0</td>\n",
       "      <td>아 더빙   진짜 짜증나네요 목소리</td>\n",
       "    </tr>\n",
       "    <tr>\n",
       "      <th>1</th>\n",
       "      <td>흠...포스터보고 초딩영화줄....오버연기조차 가볍지 않구나</td>\n",
       "      <td>1</td>\n",
       "      <td>흠   포스터보고 초딩영화줄    오버연기조차 가볍지 않구나</td>\n",
       "    </tr>\n",
       "    <tr>\n",
       "      <th>2</th>\n",
       "      <td>너무재밓었다그래서보는것을추천한다</td>\n",
       "      <td>0</td>\n",
       "      <td>너무재밓었다그래서보는것을추천한다</td>\n",
       "    </tr>\n",
       "    <tr>\n",
       "      <th>3</th>\n",
       "      <td>교도소 이야기구먼 ..솔직히 재미는 없다..평점 조정</td>\n",
       "      <td>0</td>\n",
       "      <td>교도소 이야기구먼   솔직히 재미는 없다  평점 조정</td>\n",
       "    </tr>\n",
       "    <tr>\n",
       "      <th>4</th>\n",
       "      <td>사이몬페그의 익살스런 연기가 돋보였던 영화!스파이더맨에서 늙어보이기만 했던 커스틴 ...</td>\n",
       "      <td>1</td>\n",
       "      <td>사이몬페그의 익살스런 연기가 돋보였던 영화 스파이더맨에서 늙어보이기만 했던 커스틴 ...</td>\n",
       "    </tr>\n",
       "    <tr>\n",
       "      <th>5</th>\n",
       "      <td>막 걸음마 뗀 3세부터 초등학교 1학년생인 8살용영화.ㅋㅋㅋ...별반개도 아까움.</td>\n",
       "      <td>0</td>\n",
       "      <td>막 걸음마 뗀  세부터 초등학교  학년생인  살용영화 ㅋㅋㅋ   별반개도 아까움</td>\n",
       "    </tr>\n",
       "    <tr>\n",
       "      <th>6</th>\n",
       "      <td>원작의 긴장감을 제대로 살려내지못했다.</td>\n",
       "      <td>0</td>\n",
       "      <td>원작의 긴장감을 제대로 살려내지못했다</td>\n",
       "    </tr>\n",
       "    <tr>\n",
       "      <th>7</th>\n",
       "      <td>별 반개도 아깝다 욕나온다 이응경 길용우 연기생활이몇년인지..정말 발로해도 그것보단...</td>\n",
       "      <td>0</td>\n",
       "      <td>별 반개도 아깝다 욕나온다 이응경 길용우 연기생활이몇년인지  정말 발로해도 그것보단...</td>\n",
       "    </tr>\n",
       "    <tr>\n",
       "      <th>8</th>\n",
       "      <td>액션이 없는데도 재미 있는 몇안되는 영화</td>\n",
       "      <td>1</td>\n",
       "      <td>액션이 없는데도 재미 있는 몇안되는 영화</td>\n",
       "    </tr>\n",
       "    <tr>\n",
       "      <th>9</th>\n",
       "      <td>왜케 평점이 낮은건데? 꽤 볼만한데.. 헐리우드식 화려함에만 너무 길들여져 있나?</td>\n",
       "      <td>1</td>\n",
       "      <td>왜케 평점이 낮은건데  꽤 볼만한데   헐리우드식 화려함에만 너무 길들여져 있나</td>\n",
       "    </tr>\n",
       "    <tr>\n",
       "      <th>10</th>\n",
       "      <td>걍인피니트가짱이다.진짜짱이다♥</td>\n",
       "      <td>1</td>\n",
       "      <td>걍인피니트가짱이다 진짜짱이다</td>\n",
       "    </tr>\n",
       "    <tr>\n",
       "      <th>11</th>\n",
       "      <td>볼때마다 눈물나서 죽겠다90년대의 향수자극!!허진호는 감성절제멜로의 달인이다~</td>\n",
       "      <td>1</td>\n",
       "      <td>볼때마다 눈물나서 죽겠다  년대의 향수자극  허진호는 감성절제멜로의 달인이다</td>\n",
       "    </tr>\n",
       "    <tr>\n",
       "      <th>12</th>\n",
       "      <td>울면서 손들고 횡단보도 건널때 뛰쳐나올뻔 이범수 연기 드럽게못해</td>\n",
       "      <td>0</td>\n",
       "      <td>울면서 손들고 횡단보도 건널때 뛰쳐나올뻔 이범수 연기 드럽게못해</td>\n",
       "    </tr>\n",
       "    <tr>\n",
       "      <th>13</th>\n",
       "      <td>담백하고 깔끔해서 좋다. 신문기사로만 보다 보면 자꾸 잊어버린다. 그들도 사람이었다...</td>\n",
       "      <td>1</td>\n",
       "      <td>담백하고 깔끔해서 좋다  신문기사로만 보다 보면 자꾸 잊어버린다  그들도 사람이었다...</td>\n",
       "    </tr>\n",
       "    <tr>\n",
       "      <th>14</th>\n",
       "      <td>취향은 존중한다지만 진짜 내생에 극장에서 본 영화중 가장 노잼 노감동임 스토리도 어...</td>\n",
       "      <td>0</td>\n",
       "      <td>취향은 존중한다지만 진짜 내생에 극장에서 본 영화중 가장 노잼 노감동임 스토리도 어...</td>\n",
       "    </tr>\n",
       "    <tr>\n",
       "      <th>15</th>\n",
       "      <td>ㄱ냥 매번 긴장되고 재밋음ㅠㅠ</td>\n",
       "      <td>1</td>\n",
       "      <td>ㄱ냥 매번 긴장되고 재밋음ㅠㅠ</td>\n",
       "    </tr>\n",
       "    <tr>\n",
       "      <th>16</th>\n",
       "      <td>참 사람들 웃긴게 바스코가 이기면 락스코라고 까고바비가 이기면 아이돌이라고 깐다.그...</td>\n",
       "      <td>1</td>\n",
       "      <td>참 사람들 웃긴게 바스코가 이기면 락스코라고 까고바비가 이기면 아이돌이라고 깐다 그...</td>\n",
       "    </tr>\n",
       "    <tr>\n",
       "      <th>17</th>\n",
       "      <td>굿바이 레닌 표절인것은 이해하는데 왜 뒤로 갈수록 재미없어지냐</td>\n",
       "      <td>0</td>\n",
       "      <td>굿바이 레닌 표절인것은 이해하는데 왜 뒤로 갈수록 재미없어지냐</td>\n",
       "    </tr>\n",
       "    <tr>\n",
       "      <th>18</th>\n",
       "      <td>이건 정말 깨알 캐스팅과 질퍽하지않은 산뜻한 내용구성이 잘 버무러진 깨알일드!!♥</td>\n",
       "      <td>1</td>\n",
       "      <td>이건 정말 깨알 캐스팅과 질퍽하지않은 산뜻한 내용구성이 잘 버무러진 깨알일드</td>\n",
       "    </tr>\n",
       "    <tr>\n",
       "      <th>19</th>\n",
       "      <td>약탈자를 위한 변명, 이라. 저놈들은 착한놈들 절대 아닌걸요.</td>\n",
       "      <td>1</td>\n",
       "      <td>약탈자를 위한 변명  이라  저놈들은 착한놈들 절대 아닌걸요</td>\n",
       "    </tr>\n",
       "  </tbody>\n",
       "</table>\n",
       "</div>"
      ],
      "text/plain": [
       "                                             document  label  \\\n",
       "0                                 아 더빙.. 진짜 짜증나네요 목소리      0   \n",
       "1                   흠...포스터보고 초딩영화줄....오버연기조차 가볍지 않구나      1   \n",
       "2                                   너무재밓었다그래서보는것을추천한다      0   \n",
       "3                       교도소 이야기구먼 ..솔직히 재미는 없다..평점 조정      0   \n",
       "4   사이몬페그의 익살스런 연기가 돋보였던 영화!스파이더맨에서 늙어보이기만 했던 커스틴 ...      1   \n",
       "5       막 걸음마 뗀 3세부터 초등학교 1학년생인 8살용영화.ㅋㅋㅋ...별반개도 아까움.      0   \n",
       "6                               원작의 긴장감을 제대로 살려내지못했다.      0   \n",
       "7   별 반개도 아깝다 욕나온다 이응경 길용우 연기생활이몇년인지..정말 발로해도 그것보단...      0   \n",
       "8                              액션이 없는데도 재미 있는 몇안되는 영화      1   \n",
       "9       왜케 평점이 낮은건데? 꽤 볼만한데.. 헐리우드식 화려함에만 너무 길들여져 있나?      1   \n",
       "10                                   걍인피니트가짱이다.진짜짱이다♥      1   \n",
       "11        볼때마다 눈물나서 죽겠다90년대의 향수자극!!허진호는 감성절제멜로의 달인이다~      1   \n",
       "12                울면서 손들고 횡단보도 건널때 뛰쳐나올뻔 이범수 연기 드럽게못해      0   \n",
       "13  담백하고 깔끔해서 좋다. 신문기사로만 보다 보면 자꾸 잊어버린다. 그들도 사람이었다...      1   \n",
       "14  취향은 존중한다지만 진짜 내생에 극장에서 본 영화중 가장 노잼 노감동임 스토리도 어...      0   \n",
       "15                                   ㄱ냥 매번 긴장되고 재밋음ㅠㅠ      1   \n",
       "16  참 사람들 웃긴게 바스코가 이기면 락스코라고 까고바비가 이기면 아이돌이라고 깐다.그...      1   \n",
       "17                 굿바이 레닌 표절인것은 이해하는데 왜 뒤로 갈수록 재미없어지냐      0   \n",
       "18      이건 정말 깨알 캐스팅과 질퍽하지않은 산뜻한 내용구성이 잘 버무러진 깨알일드!!♥      1   \n",
       "19                 약탈자를 위한 변명, 이라. 저놈들은 착한놈들 절대 아닌걸요.      1   \n",
       "\n",
       "                                             word_n_2  \n",
       "0                                 아 더빙   진짜 짜증나네요 목소리  \n",
       "1                   흠   포스터보고 초딩영화줄    오버연기조차 가볍지 않구나  \n",
       "2                                   너무재밓었다그래서보는것을추천한다  \n",
       "3                       교도소 이야기구먼   솔직히 재미는 없다  평점 조정  \n",
       "4   사이몬페그의 익살스런 연기가 돋보였던 영화 스파이더맨에서 늙어보이기만 했던 커스틴 ...  \n",
       "5       막 걸음마 뗀  세부터 초등학교  학년생인  살용영화 ㅋㅋㅋ   별반개도 아까움   \n",
       "6                               원작의 긴장감을 제대로 살려내지못했다   \n",
       "7   별 반개도 아깝다 욕나온다 이응경 길용우 연기생활이몇년인지  정말 발로해도 그것보단...  \n",
       "8                              액션이 없는데도 재미 있는 몇안되는 영화  \n",
       "9       왜케 평점이 낮은건데  꽤 볼만한데   헐리우드식 화려함에만 너무 길들여져 있나   \n",
       "10                                   걍인피니트가짱이다 진짜짱이다   \n",
       "11        볼때마다 눈물나서 죽겠다  년대의 향수자극  허진호는 감성절제멜로의 달인이다   \n",
       "12                울면서 손들고 횡단보도 건널때 뛰쳐나올뻔 이범수 연기 드럽게못해  \n",
       "13  담백하고 깔끔해서 좋다  신문기사로만 보다 보면 자꾸 잊어버린다  그들도 사람이었다...  \n",
       "14  취향은 존중한다지만 진짜 내생에 극장에서 본 영화중 가장 노잼 노감동임 스토리도 어...  \n",
       "15                                   ㄱ냥 매번 긴장되고 재밋음ㅠㅠ  \n",
       "16  참 사람들 웃긴게 바스코가 이기면 락스코라고 까고바비가 이기면 아이돌이라고 깐다 그...  \n",
       "17                 굿바이 레닌 표절인것은 이해하는데 왜 뒤로 갈수록 재미없어지냐  \n",
       "18      이건 정말 깨알 캐스팅과 질퍽하지않은 산뜻한 내용구성이 잘 버무러진 깨알일드     \n",
       "19                 약탈자를 위한 변명  이라  저놈들은 착한놈들 절대 아닌걸요   "
      ]
     },
     "execution_count": 6,
     "metadata": {},
     "output_type": "execute_result"
    }
   ],
   "source": [
    "# %%\n",
    "# Creating another column where punctuations are removed for the review\n",
    "train['word_n_2']=train['document'].str.replace(\"[^ㄱ-ㅎㅏ-ㅣ가-힣 ]\",\" \")\n",
    "test['document']=test['document'].str.replace(\"[^ㄱ-ㅎㅏ-ㅣ가-힣 ]\",\" \")\n",
    "test['document'].replace('', np.nan, inplace=True)\n",
    "test = test.dropna()\n",
    "train.head(20)"
   ]
  },
  {
   "cell_type": "code",
   "execution_count": 7,
   "metadata": {},
   "outputs": [
    {
     "name": "stderr",
     "output_type": "stream",
     "text": [
      "100%|██████████| 149995/149995 [05:49<00:00, 428.98it/s]\n",
      "100%|██████████| 49997/49997 [02:09<00:00, 385.47it/s]\n"
     ]
    },
    {
     "name": "stdout",
     "output_type": "stream",
     "text": [
      "Max Length for Reviews : 95\n",
      "Average Length of Reviews : 12.332184406146872\n"
     ]
    },
    {
     "data": {
      "image/png": "[encoded data removed]",
      "text/plain": [
       "<Figure size 432x288 with 1 Axes>"
      ]
     },
     "metadata": {
      "needs_background": "light"
     },
     "output_type": "display_data"
    }
   ],
   "source": [
    "# %%\n",
    "# Tokenization and Removing Stopwords\n",
    "import os\n",
    "'JAVA_HOME' in os.environ\n",
    "from tqdm import tqdm\n",
    "os.environ['JAVA_HOME'] = r'C:\\Program Files\\Java\\jdk-17.0.1'\n",
    "okt = Okt()\n",
    "stopwords = ['의','가','이','은','들','는','좀','잘','걍','과','도','를','으로','자','에','와','한','하다']\n",
    "X_train = []\n",
    "X_test = []\n",
    "for sentence in tqdm(train['document']):\n",
    "    tokenized_sentence = okt.morphs(sentence, stem=True) # Train set tokenization\n",
    "    stopwords_removed_sentence = [word for word in tokenized_sentence if not word in stopwords] # train set stopwords\n",
    "    X_train.append(stopwords_removed_sentence)\n",
    "for sentence in tqdm(test['document']):\n",
    "    tokenized_sentence = okt.morphs(sentence, stem=True) # Test set tokenization\n",
    "    stopwords_removed_sentence = [word for word in tokenized_sentence if not word in stopwords] # test set stowords\n",
    "    X_test.append(stopwords_removed_sentence)\n",
    "print('Max Length for Reviews :',max(len(review) for review in X_train))\n",
    "print('Average Length of Reviews :',sum(map(len, X_train))/len(X_train))\n",
    "plt.hist([len(review) for review in X_train], bins=50)\n",
    "plt.xlabel('Length of Review Samples')\n",
    "plt.ylabel('Number of Review samples')\n",
    "plt.show()"
   ]
  },
  {
   "cell_type": "code",
   "execution_count": 8,
   "metadata": {},
   "outputs": [],
   "source": [
    "# %%\n",
    "# Limiting tokens to words that have only shown up more than 4h times \n",
    "max_features = 9308 # Number of words that have popped up more than 4 times in the training set\n",
    "tokenizer = Tokenizer(num_words=max_features)\n",
    "tokenizer.fit_on_texts(X_train)\n",
    "X_train = tokenizer.texts_to_sequences(X_train)\n",
    "X_test = tokenizer.texts_to_sequences(X_test)"
   ]
  },
  {
   "cell_type": "code",
   "execution_count": null,
   "metadata": {},
   "outputs": [],
   "source": [
    "# %%\n",
    "# Padding and cutting reviews when they are > 50 words\n",
    "drop_train = [index for index, sentence in enumerate(X_test) if len(sentence) <1]\n",
    "X_test = np.delete(X_test, drop_train, axis=0)\n",
    "max_len = 50\n",
    "X_train = pad_sequences(X_train, maxlen=max_len)\n",
    "X_test = pad_sequences(X_test, maxlen=50)"
   ]
  },
  {
   "cell_type": "code",
   "execution_count": 10,
   "metadata": {},
   "outputs": [
    {
     "name": "stdout",
     "output_type": "stream",
     "text": [
      "Epoch 1/15\n",
      "1875/1875 [==============================] - 46s 21ms/step - loss: 0.3922 - acc: 0.8276 - val_loss: 0.3408 - val_acc: 0.8535\n",
      "\n",
      "Epoch 00001: val_acc improved from -inf to 0.85350, saving model to best_model.h5\n",
      "Epoch 2/15\n",
      "1875/1875 [==============================] - 38s 20ms/step - loss: 0.3276 - acc: 0.8629 - val_loss: 0.3193 - val_acc: 0.8630\n",
      "\n",
      "Epoch 00002: val_acc improved from 0.85350 to 0.86296, saving model to best_model.h5\n",
      "Epoch 3/15\n",
      "1875/1875 [==============================] - 35s 19ms/step - loss: 0.3047 - acc: 0.8741 - val_loss: 0.3224 - val_acc: 0.8682\n",
      "\n",
      "Epoch 00003: val_acc improved from 0.86296 to 0.86823, saving model to best_model.h5\n",
      "Epoch 4/15\n",
      "1875/1875 [==============================] - 34s 18ms/step - loss: 0.2872 - acc: 0.8828 - val_loss: 0.3125 - val_acc: 0.8694\n",
      "\n",
      "Epoch 00004: val_acc improved from 0.86823 to 0.86940, saving model to best_model.h5\n",
      "Epoch 5/15\n",
      "1875/1875 [==============================] - 34s 18ms/step - loss: 0.2724 - acc: 0.8900 - val_loss: 0.3093 - val_acc: 0.8672\n",
      "\n",
      "Epoch 00005: val_acc did not improve from 0.86940\n",
      "Epoch 6/15\n",
      "1875/1875 [==============================] - 34s 18ms/step - loss: 0.2584 - acc: 0.8969 - val_loss: 0.3123 - val_acc: 0.8651\n",
      "\n",
      "Epoch 00006: val_acc did not improve from 0.86940\n",
      "Epoch 7/15\n",
      "1875/1875 [==============================] - 33s 18ms/step - loss: 0.2452 - acc: 0.9033 - val_loss: 0.3174 - val_acc: 0.8651\n",
      "\n",
      "Epoch 00007: val_acc did not improve from 0.86940\n",
      "Epoch 8/15\n",
      "1875/1875 [==============================] - 34s 18ms/step - loss: 0.2330 - acc: 0.9079 - val_loss: 0.3262 - val_acc: 0.8663\n",
      "\n",
      "Epoch 00008: val_acc did not improve from 0.86940\n",
      "Epoch 9/15\n",
      "1875/1875 [==============================] - 34s 18ms/step - loss: 0.2203 - acc: 0.9146 - val_loss: 0.3392 - val_acc: 0.8622\n",
      "\n",
      "Epoch 00009: val_acc did not improve from 0.86940\n",
      "Epoch 00009: early stopping\n"
     ]
    }
   ],
   "source": [
    "# Creating the model\n",
    "from tensorflow.keras.layers import Embedding, Dense, LSTM\n",
    "from tensorflow.keras.callbacks import EarlyStopping, ModelCheckpoint\n",
    "from keras.layers import Bidirectional, GlobalMaxPool1D\n",
    "y_train = np.array(train['label'])\n",
    "y_test = np.array(test['label'])\n",
    "y_test = np.delete(y_test, drop_train, axis=0)\n",
    "embed_size = 128\n",
    "model = Sequential()\n",
    "model.add(Embedding(max_features, embed_size))\n",
    "model.add(Bidirectional(LSTM(64, return_sequences = True)))\n",
    "model.add(GlobalMaxPool1D())\n",
    "model.add(Dense(32, activation=\"relu\"))\n",
    "model.add(Dropout(0.5))\n",
    "model.add(Dense(1, activation=\"sigmoid\"))\n",
    "model.compile(loss='binary_crossentropy', optimizer='adam', metrics=['accuracy'])\n",
    "\n",
    "batch_size = 100\n",
    "epochs = 3\n",
    "es = EarlyStopping(monitor='val_loss', mode='min', verbose=1, patience=4)\n",
    "mc = ModelCheckpoint('best_model.h5', monitor='val_acc', mode='max', verbose=1, save_best_only=True)\n",
    "\n",
    "model.compile(optimizer='rmsprop', loss='binary_crossentropy', metrics=['acc'])\n",
    "history = model.fit(X_train, y_train, epochs=15, callbacks=[es, mc], batch_size=64, validation_split=0.2)"
   ]
  },
  {
   "cell_type": "code",
   "execution_count": 11,
   "metadata": {},
   "outputs": [
    {
     "name": "stdout",
     "output_type": "stream",
     "text": [
      "1544/1544 [==============================] - 14s 9ms/step - loss: 0.3352 - acc: 0.8560\n",
      "\n",
      " Test Accuracy: 0.8560\n",
      "Model: \"sequential\"\n",
      "_________________________________________________________________\n",
      "Layer (type)                 Output Shape              Param #   \n",
      "=================================================================\n",
      "embedding (Embedding)        (None, None, 128)         1191424   \n",
      "_________________________________________________________________\n",
      "bidirectional (Bidirectional (None, None, 128)         98816     \n",
      "_________________________________________________________________\n",
      "global_max_pooling1d (Global (None, 128)               0         \n",
      "_________________________________________________________________\n",
      "dense (Dense)                (None, 32)                4128      \n",
      "_________________________________________________________________\n",
      "dropout (Dropout)            (None, 32)                0         \n",
      "_________________________________________________________________\n",
      "dense_1 (Dense)              (None, 1)                 33        \n",
      "=================================================================\n",
      "Total params: 1,294,401\n",
      "Trainable params: 1,294,401\n",
      "Non-trainable params: 0\n",
      "_________________________________________________________________\n"
     ]
    }
   ],
   "source": [
    "# Taking the best model used for our data\n",
    "from tensorflow.keras.models import load_model\n",
    "loaded_model = load_model('best_model.h5')\n",
    "print(\"\\n Test Accuracy: %.4f\" % (loaded_model.evaluate(X_test, y_test)[1]))\n",
    "model.summary()"
   ]
  },
  {
   "cell_type": "code",
   "execution_count": 12,
   "metadata": {},
   "outputs": [
    {
     "name": "stdout",
     "output_type": "stream",
     "text": [
      "Accuracy_score:  0.8560236451606373\n",
      "Precision_score:  0.8543157558069804\n",
      "Recall_score:  0.8603696098562629\n",
      "--------------------------------------------------\n",
      "              precision    recall  f1-score   support\n",
      "\n",
      "           0       0.86      0.85      0.85     24560\n",
      "           1       0.85      0.86      0.86     24837\n",
      "\n",
      "    accuracy                           0.86     49397\n",
      "   macro avg       0.86      0.86      0.86     49397\n",
      "weighted avg       0.86      0.86      0.86     49397\n",
      "\n"
     ]
    },
    {
     "data": {
      "image/png": "[encoded data removed]",
      "text/plain": [
       "<Figure size 432x288 with 2 Axes>"
      ]
     },
     "metadata": {
      "needs_background": "light"
     },
     "output_type": "display_data"
    }
   ],
   "source": [
    "# Evaluating model performance\n",
    "import nltk\n",
    "from nltk.corpus import stopwords\n",
    "from nltk.stem import WordNetLemmatizer\n",
    "import seaborn as sns\n",
    "import re\n",
    "from sklearn.metrics import accuracy_score,precision_score,recall_score,confusion_matrix,roc_curve,classification_report\n",
    "import scikitplot as skplt\n",
    "\n",
    "# Making predictions using 0.5 as the cutooff\n",
    "predictions = loaded_model.predict(X_test)\n",
    "predictions = (predictions >= 0.5)\n",
    "from scikitplot.metrics import plot_confusion_matrix\n",
    "plot_confusion_matrix(y_test,predictions)\n",
    "acc_score = accuracy_score(y_test,predictions)\n",
    "pre_score = precision_score(y_test,predictions)\n",
    "rec_score = recall_score(y_test,predictions)\n",
    "print('Accuracy_score: ',acc_score)\n",
    "print('Precision_score: ',pre_score)\n",
    "print('Recall_score: ',rec_score)\n",
    "print(\"-\"*50)\n",
    "cr = classification_report(y_test,predictions)\n",
    "print(cr)"
   ]
  },
  {
   "cell_type": "code",
   "execution_count": 13,
   "metadata": {},
   "outputs": [
    {
     "data": {
      "image/png": "[encoded data removed]",
      "text/plain": [
       "<Figure size 432x288 with 1 Axes>"
      ]
     },
     "metadata": {
      "needs_background": "light"
     },
     "output_type": "display_data"
    }
   ],
   "source": [
    "# Plotting ROC curve\n",
    "predictions_probability = loaded_model.predict(X_test)\n",
    "fpr,tpr,thresholds = roc_curve(y_test,predictions_probability[:,0])\n",
    "plt.plot(fpr,tpr)\n",
    "plt.plot([0,1])\n",
    "plt.title('ROC Curve')\n",
    "plt.xlabel('False Positive Rate')\n",
    "plt.ylabel('True Positive Rate')\n",
    "plt.show()"
   ]
  },
  {
   "cell_type": "code",
   "execution_count": null,
   "metadata": {},
   "outputs": [],
   "source": []
  }
 ],
 "metadata": {
  "interpreter": {
   "hash": "206083e4e76fea8a37259c252b6a159005b49d1fdd7496db035b9ec46b927647"
  },
  "kernelspec": {
   "display_name": "Python 3.9.7 64-bit",
   "language": "python",
   "name": "python3"
  },
  "language_info": {
   "codemirror_mode": {
    "name": "ipython",
    "version": 3
   },
   "file_extension": ".py",
   "mimetype": "text/x-python",
   "name": "python",
   "nbconvert_exporter": "python",
   "pygments_lexer": "ipython3",
   "version": "3.9.7"
  },
  "orig_nbformat": 4
 },
 "nbformat": 4,
 "nbformat_minor": 2
}
